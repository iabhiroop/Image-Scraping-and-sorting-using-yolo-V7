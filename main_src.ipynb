{
 "cells": [
  {
   "cell_type": "code",
   "execution_count": 1,
   "id": "46207597-e147-4025-983d-d7b70d7aeefe",
   "metadata": {},
   "outputs": [],
   "source": [
    "from bs4 import BeautifulSoup\n",
    "import requests\n",
    "import shutil\n",
    "from detect import detect\n",
    "import torch\n",
    "import cv2\n",
    "from PIL import Image\n",
    "import os\n",
    "import io\n",
    "import pandas as pd\n",
    "from flask import Flask,Response,render_template,request,redirect"
   ]
  },
  {
   "cell_type": "code",
   "execution_count": 2,
   "id": "c0fedf4e-878f-4fa7-94c9-766fb1909910",
   "metadata": {},
   "outputs": [],
   "source": [
    "def find_result(img,img_sz):\n",
    "    print(\"checking\",img)\n",
    "    opt = {\"agnostic_nms\":False, \"augment\":False, \n",
    "           \"classes\":None, \"conf_thres\":0.1, \n",
    "           \"device\":'', \"exist_ok\":False, \n",
    "           \"img_size\":img_sz, \"iou_thres\":0.45, \n",
    "           \"name\":'exp', \"no_trace\":True, \"nosave\":False, \n",
    "           \"project\":'runs/detect', \"save_conf\":True, \n",
    "           \"save_txt\":True, \"source\":img, \"update\":False, \n",
    "           \"view_img\":False, \"weights\":['yolov7.pt']}\n",
    "    with torch.no_grad():\n",
    "        res = detect(opt)\n",
    "    return res"
   ]
  },
  {
   "cell_type": "code",
   "execution_count": 3,
   "id": "dd7e5506",
   "metadata": {},
   "outputs": [],
   "source": [
    "def directory_handle(URL,ID,re,source):\n",
    "    print(\"dir han\")\n",
    "    for i in re:\n",
    "        if (os.path.exists(path+i)==False):\n",
    "            os.mkdir(path+i)\n",
    "\n",
    "        try:\n",
    "            shutil.copy(source, path+i)\n",
    "            imna=path+i+(source.split(\"/\")[-1])\n",
    "            csv_update(URL,ID,imna,re)\n",
    "            print(\"Copied\")\n",
    "        except:\n",
    "            print(\"Failed to copy\")"
   ]
  },
  {
   "cell_type": "code",
   "execution_count": 4,
   "id": "1955ee10",
   "metadata": {},
   "outputs": [],
   "source": [
    "def csv_update(URL,ID,imna,re):\n",
    "    df=pd.DataFrame({\"URL\":[URL,],\"ID\":[ID,],\"img_name\":[imna,],\"result\":[re,]})\n",
    "    df.to_csv(path+\"urlid.csv\",mode='a',index=False,header=False)\n",
    "    print(\"csv up\")"
   ]
  },
  {
   "cell_type": "code",
   "execution_count": 5,
   "id": "f428b4cb-dc43-40e6-ba48-7852dc2658d9",
   "metadata": {},
   "outputs": [],
   "source": [
    "def getdata(url):\n",
    "    r = requests.get(url)\n",
    "    return r.text"
   ]
  },
  {
   "cell_type": "code",
   "execution_count": 6,
   "id": "d50093d6-7e15-42aa-83b1-caac3f0b0fb4",
   "metadata": {},
   "outputs": [],
   "source": [
    "def scrape_image(URL):\n",
    "    htmldata = getdata(URL) \n",
    "    soup = BeautifulSoup(htmldata, 'html.parser')\n",
    "    src=[]\n",
    "    images = soup.find_all('img')\n",
    "\n",
    "    for item in images:\n",
    "        try:\n",
    "            if len(item['src'])>0:\n",
    "                src.append(item['src'])\n",
    "        except:\n",
    "            pass\n",
    "    print(src)\n",
    "#     print(images)\n",
    "    return src"
   ]
  },
  {
   "cell_type": "code",
   "execution_count": 7,
   "id": "0a659c03-c932-4436-bf01-05450cfcda2e",
   "metadata": {},
   "outputs": [],
   "source": [
    "def image_downoad(src):\n",
    "    j=0\n",
    "    path=app.root_path+\"\\\\static\\\\\"\n",
    "    sr_path= path +\"Src_image\\\\\"\n",
    "    urlid= pd.read_csv(path+\"urlid.csv\")\n",
    "    if URL not in urlid[\"URL\"]:\n",
    "        ID=urlid[\"ID\"].iloc[-1]+1\n",
    "    else:\n",
    "        return\n",
    "        \n",
    "    for i in src:\n",
    "        try:\n",
    "            r = requests.get(i, stream=True)\n",
    "            if r.status_code == 200:\n",
    "                img_path =os.path.join(sr_path,str(ID)+\"_\"+str(j)+\".jpg\")\n",
    "                with open(img_path, 'wb') as f: \n",
    "                    r.raw.decode_content = True\n",
    "                    shutil.copyfileobj(r.raw, f)\n",
    "                img_sz=img_size#(im.shape[0]+im.shape[1])*3\n",
    "                res = find_result(img_path,img_sz)\n",
    "\n",
    "                if len(res.keys())!=0:\n",
    "                    re= res.keys()\n",
    "                    directory_handle(URL,ID,re,img_path)\n",
    "\n",
    "                j+=1\n",
    "                \n",
    "        except Exception as e:\n",
    "            print(e)\n",
    "            j+=1\n",
    "            continue"
   ]
  },
  {
   "cell_type": "code",
   "execution_count": 9,
   "id": "f36279f4",
   "metadata": {},
   "outputs": [],
   "source": [
    "URL=None"
   ]
  },
  {
   "cell_type": "code",
   "execution_count": 10,
   "id": "13eba079",
   "metadata": {},
   "outputs": [],
   "source": [
    "app = Flask(__name__)"
   ]
  },
  {
   "cell_type": "code",
   "execution_count": 11,
   "id": "7c36f3fe",
   "metadata": {},
   "outputs": [
    {
     "name": "stdout",
     "output_type": "stream",
     "text": [
      "C:\\Users\\sreea\\yolo_model\\yolov7\\static\\\n",
      "path to  True\n"
     ]
    }
   ],
   "source": [
    "min_size=10\n",
    "img_size=224\n",
    "path=app.root_path+\"\\\\static\\\\\"\n",
    "sr_path=path#'''+\"Src_image\\\\\"'''\n",
    "print(path)\n",
    "if not (os.path.exists(sr_path)):\n",
    "    print(sr_path)\n",
    "    os.makedirs(sr_path)\n",
    "print(\"path to \",os.path.exists(sr_path))"
   ]
  },
  {
   "cell_type": "code",
   "execution_count": 12,
   "id": "09546362",
   "metadata": {},
   "outputs": [],
   "source": [
    "@app.route('/', methods =[\"GET\", \"POST\"])\n",
    "def i_url():\n",
    "    global URL\n",
    "    if request.method == \"POST\":\n",
    "        URL = request.form.get(\"url\")\n",
    "        print(URL)\n",
    "        src=scrape_image(URL)\n",
    "        image_downoad(src)\n",
    "        return redirect('/image')\n",
    "    return render_template(\"main.html\")"
   ]
  },
  {
   "cell_type": "code",
   "execution_count": 13,
   "id": "ab0cf1c8",
   "metadata": {},
   "outputs": [],
   "source": [
    "@app.route('/')\n",
    "def index():\n",
    "    return render_template('main.html')"
   ]
  },
  {
   "cell_type": "code",
   "execution_count": 14,
   "id": "9e81bdcb",
   "metadata": {},
   "outputs": [],
   "source": [
    "@app.route('/image')\n",
    "def image():\n",
    "    image_names = [sr_path+\"\\\\Src_image\\\\\"+i for i in os.listdir(sr_path+\"\\\\Src_image\\\\\")]\n",
    "    print(image_names)\n",
    "    return render_template('image.html',images=image_names)"
   ]
  },
  {
   "cell_type": "code",
   "execution_count": 15,
   "id": "ca4aeb9a",
   "metadata": {},
   "outputs": [
    {
     "name": "stdout",
     "output_type": "stream",
     "text": [
      " * Serving Flask app \"__main__\" (lazy loading)\n",
      " * Environment: production\n",
      "\u001b[31m   WARNING: This is a development server. Do not use it in a production deployment.\u001b[0m\n",
      "\u001b[2m   Use a production WSGI server instead.\u001b[0m\n",
      " * Debug mode: off\n"
     ]
    },
    {
     "name": "stderr",
     "output_type": "stream",
     "text": [
      " * Running on http://127.0.0.1:5000/ (Press CTRL+C to quit)\n",
      "127.0.0.1 - - [26/Jan/2023 20:16:26] \"GET / HTTP/1.1\" 200 -\n",
      "127.0.0.1 - - [26/Jan/2023 20:16:35] \"GET / HTTP/1.1\" 200 -\n",
      "127.0.0.1 - - [26/Jan/2023 20:16:40] \"GET /image HTTP/1.1\" 200 -\n",
      "127.0.0.1 - - [26/Jan/2023 20:16:40] \"GET /static/C:%5CUsers%5Csreea%5Cyolo_model%5Cyolov7%5Cstatic%5C%5CSrc_image%5C1_0.jpg HTTP/1.1\" 404 -\n",
      "127.0.0.1 - - [26/Jan/2023 20:16:40] \"GET /static/C:%5CUsers%5Csreea%5Cyolo_model%5Cyolov7%5Cstatic%5C%5CSrc_image%5C1_1.jpg HTTP/1.1\" 404 -\n",
      "127.0.0.1 - - [26/Jan/2023 20:16:40] \"GET /static/C:%5CUsers%5Csreea%5Cyolo_model%5Cyolov7%5Cstatic%5C%5CSrc_image%5C1_10.jpg HTTP/1.1\" 404 -\n",
      "127.0.0.1 - - [26/Jan/2023 20:16:40] \"GET /static/C:%5CUsers%5Csreea%5Cyolo_model%5Cyolov7%5Cstatic%5C%5CSrc_image%5C1_11.jpg HTTP/1.1\" 404 -\n",
      "127.0.0.1 - - [26/Jan/2023 20:16:40] \"GET /static/C:%5CUsers%5Csreea%5Cyolo_model%5Cyolov7%5Cstatic%5C%5CSrc_image%5C1_12.jpg HTTP/1.1\" 404 -\n",
      "127.0.0.1 - - [26/Jan/2023 20:16:40] \"GET /static/C:%5CUsers%5Csreea%5Cyolo_model%5Cyolov7%5Cstatic%5C%5CSrc_image%5C1_13.jpg HTTP/1.1\" 404 -\n",
      "127.0.0.1 - - [26/Jan/2023 20:16:40] \"GET /static/C:%5CUsers%5Csreea%5Cyolo_model%5Cyolov7%5Cstatic%5C%5CSrc_image%5C1_14.jpg HTTP/1.1\" 404 -\n",
      "127.0.0.1 - - [26/Jan/2023 20:16:40] \"GET /static/C:%5CUsers%5Csreea%5Cyolo_model%5Cyolov7%5Cstatic%5C%5CSrc_image%5C1_15.jpg HTTP/1.1\" 404 -\n",
      "127.0.0.1 - - [26/Jan/2023 20:16:40] \"GET /static/C:%5CUsers%5Csreea%5Cyolo_model%5Cyolov7%5Cstatic%5C%5CSrc_image%5C1_16.jpg HTTP/1.1\" 404 -\n",
      "127.0.0.1 - - [26/Jan/2023 20:16:40] \"GET /static/C:%5CUsers%5Csreea%5Cyolo_model%5Cyolov7%5Cstatic%5C%5CSrc_image%5C1_17.jpg HTTP/1.1\" 404 -\n",
      "127.0.0.1 - - [26/Jan/2023 20:16:40] \"GET /static/C:%5CUsers%5Csreea%5Cyolo_model%5Cyolov7%5Cstatic%5C%5CSrc_image%5C1_18.jpg HTTP/1.1\" 404 -\n",
      "127.0.0.1 - - [26/Jan/2023 20:16:40] \"GET /static/C:%5CUsers%5Csreea%5Cyolo_model%5Cyolov7%5Cstatic%5C%5CSrc_image%5C1_2.jpg HTTP/1.1\" 404 -\n",
      "127.0.0.1 - - [26/Jan/2023 20:16:40] \"GET /static/C:%5CUsers%5Csreea%5Cyolo_model%5Cyolov7%5Cstatic%5C%5CSrc_image%5C1_3.jpg HTTP/1.1\" 404 -\n",
      "127.0.0.1 - - [26/Jan/2023 20:16:40] \"GET /static/C:%5CUsers%5Csreea%5Cyolo_model%5Cyolov7%5Cstatic%5C%5CSrc_image%5C1_4.jpg HTTP/1.1\" 404 -\n",
      "127.0.0.1 - - [26/Jan/2023 20:16:40] \"GET /static/C:%5CUsers%5Csreea%5Cyolo_model%5Cyolov7%5Cstatic%5C%5CSrc_image%5C1_5.jpg HTTP/1.1\" 404 -\n",
      "127.0.0.1 - - [26/Jan/2023 20:16:40] \"GET /static/C:%5CUsers%5Csreea%5Cyolo_model%5Cyolov7%5Cstatic%5C%5CSrc_image%5C1_6.jpg HTTP/1.1\" 404 -\n",
      "127.0.0.1 - - [26/Jan/2023 20:16:40] \"GET /static/C:%5CUsers%5Csreea%5Cyolo_model%5Cyolov7%5Cstatic%5C%5CSrc_image%5C1_7.jpg HTTP/1.1\" 404 -\n",
      "127.0.0.1 - - [26/Jan/2023 20:16:40] \"GET /static/C:%5CUsers%5Csreea%5Cyolo_model%5Cyolov7%5Cstatic%5C%5CSrc_image%5C1_8.jpg HTTP/1.1\" 404 -\n",
      "127.0.0.1 - - [26/Jan/2023 20:16:40] \"GET /static/C:%5CUsers%5Csreea%5Cyolo_model%5Cyolov7%5Cstatic%5C%5CSrc_image%5C1_9.jpg HTTP/1.1\" 404 -\n"
     ]
    },
    {
     "name": "stdout",
     "output_type": "stream",
     "text": [
      "['C:\\\\Users\\\\sreea\\\\yolo_model\\\\yolov7\\\\static\\\\\\\\Src_image\\\\1_0.jpg', 'C:\\\\Users\\\\sreea\\\\yolo_model\\\\yolov7\\\\static\\\\\\\\Src_image\\\\1_1.jpg', 'C:\\\\Users\\\\sreea\\\\yolo_model\\\\yolov7\\\\static\\\\\\\\Src_image\\\\1_10.jpg', 'C:\\\\Users\\\\sreea\\\\yolo_model\\\\yolov7\\\\static\\\\\\\\Src_image\\\\1_11.jpg', 'C:\\\\Users\\\\sreea\\\\yolo_model\\\\yolov7\\\\static\\\\\\\\Src_image\\\\1_12.jpg', 'C:\\\\Users\\\\sreea\\\\yolo_model\\\\yolov7\\\\static\\\\\\\\Src_image\\\\1_13.jpg', 'C:\\\\Users\\\\sreea\\\\yolo_model\\\\yolov7\\\\static\\\\\\\\Src_image\\\\1_14.jpg', 'C:\\\\Users\\\\sreea\\\\yolo_model\\\\yolov7\\\\static\\\\\\\\Src_image\\\\1_15.jpg', 'C:\\\\Users\\\\sreea\\\\yolo_model\\\\yolov7\\\\static\\\\\\\\Src_image\\\\1_16.jpg', 'C:\\\\Users\\\\sreea\\\\yolo_model\\\\yolov7\\\\static\\\\\\\\Src_image\\\\1_17.jpg', 'C:\\\\Users\\\\sreea\\\\yolo_model\\\\yolov7\\\\static\\\\\\\\Src_image\\\\1_18.jpg', 'C:\\\\Users\\\\sreea\\\\yolo_model\\\\yolov7\\\\static\\\\\\\\Src_image\\\\1_2.jpg', 'C:\\\\Users\\\\sreea\\\\yolo_model\\\\yolov7\\\\static\\\\\\\\Src_image\\\\1_3.jpg', 'C:\\\\Users\\\\sreea\\\\yolo_model\\\\yolov7\\\\static\\\\\\\\Src_image\\\\1_4.jpg', 'C:\\\\Users\\\\sreea\\\\yolo_model\\\\yolov7\\\\static\\\\\\\\Src_image\\\\1_5.jpg', 'C:\\\\Users\\\\sreea\\\\yolo_model\\\\yolov7\\\\static\\\\\\\\Src_image\\\\1_6.jpg', 'C:\\\\Users\\\\sreea\\\\yolo_model\\\\yolov7\\\\static\\\\\\\\Src_image\\\\1_7.jpg', 'C:\\\\Users\\\\sreea\\\\yolo_model\\\\yolov7\\\\static\\\\\\\\Src_image\\\\1_8.jpg', 'C:\\\\Users\\\\sreea\\\\yolo_model\\\\yolov7\\\\static\\\\\\\\Src_image\\\\1_9.jpg']\n",
      "https://www.geeksforgeeks.org/retrieving-html-from-data-using-flask/\n",
      "['https://media.geeksforgeeks.org/gfg-gg-logo.svg', 'https://media.geeksforgeeks.org/gfg-gg-logo.svg', 'https://media.geeksforgeeks.org/wp-content/uploads/20200613095249/Screenshot-from-2020-06-13-09-50-46.png', 'https://media.geeksforgeeks.org/wp-content/uploads/20200613095300/Screenshot-from-2020-06-13-09-50-55.png', 'https://media.geeksforgeeks.org/wp-content/uploads/20200613095304/Screenshot-from-2020-06-13-09-51-02.png', 'https://media.geeksforgeeks.org/wp-content/uploads/20200613095307/Screenshot-from-2020-06-13-09-51-06.png', 'https://media.geeksforgeeks.org/auth/profile/ynrgasvk2nqrozm434rw', 'https://media.geeksforgeeks.org/wp-content/post-ads-banner/2022-07-13-14-01-33-2022-01-19-00-26-17-Python Foundation.png', 'https://media.geeksforgeeks.org/wp-content/post-ads-banner/2023-01-05-13-23-50-cds.gif', 'https://media.geeksforgeeks.org/wp-content/post-ads-banner/2023-01-02-16-40-42-cip.gif', 'https://media.geeksforgeeks.org/wp-content/post-ads-banner/2023-01-02-16-50-48-system-design.gif']\n"
     ]
    },
    {
     "name": "stderr",
     "output_type": "stream",
     "text": [
      "YOLOR  v0.1-115-g072f76c torch 1.12.1+cpu CPU\n",
      "\n"
     ]
    },
    {
     "name": "stdout",
     "output_type": "stream",
     "text": [
      "checking C:\\Users\\sreea\\yolo_model\\yolov7\\static\\Src_image\\2_0.jpg\n",
      "Fusing layers... \n"
     ]
    },
    {
     "name": "stderr",
     "output_type": "stream",
     "text": [
      "Model Summary: 306 layers, 36905341 parameters, 6652669 gradients\n"
     ]
    },
    {
     "name": "stdout",
     "output_type": "stream",
     "text": [
      "RepConv.fuse_repvgg_block\n",
      "RepConv.fuse_repvgg_block\n",
      "RepConv.fuse_repvgg_block\n",
      "Image Not Found C:\\Users\\sreea\\yolo_model\\yolov7\\static\\Src_image\\2_0.jpg\n"
     ]
    },
    {
     "name": "stderr",
     "output_type": "stream",
     "text": [
      "YOLOR  v0.1-115-g072f76c torch 1.12.1+cpu CPU\n",
      "\n"
     ]
    },
    {
     "name": "stdout",
     "output_type": "stream",
     "text": [
      "checking C:\\Users\\sreea\\yolo_model\\yolov7\\static\\Src_image\\2_1.jpg\n",
      "Fusing layers... \n"
     ]
    },
    {
     "name": "stderr",
     "output_type": "stream",
     "text": [
      "Model Summary: 306 layers, 36905341 parameters, 6652669 gradients\n"
     ]
    },
    {
     "name": "stdout",
     "output_type": "stream",
     "text": [
      "RepConv.fuse_repvgg_block\n",
      "RepConv.fuse_repvgg_block\n",
      "RepConv.fuse_repvgg_block\n",
      "Image Not Found C:\\Users\\sreea\\yolo_model\\yolov7\\static\\Src_image\\2_1.jpg\n"
     ]
    },
    {
     "name": "stderr",
     "output_type": "stream",
     "text": [
      "YOLOR  v0.1-115-g072f76c torch 1.12.1+cpu CPU\n",
      "\n"
     ]
    },
    {
     "name": "stdout",
     "output_type": "stream",
     "text": [
      "checking C:\\Users\\sreea\\yolo_model\\yolov7\\static\\Src_image\\2_2.jpg\n",
      "Fusing layers... \n"
     ]
    },
    {
     "name": "stderr",
     "output_type": "stream",
     "text": [
      "Model Summary: 306 layers, 36905341 parameters, 6652669 gradients\n"
     ]
    },
    {
     "name": "stdout",
     "output_type": "stream",
     "text": [
      "RepConv.fuse_repvgg_block\n",
      "RepConv.fuse_repvgg_block\n",
      "RepConv.fuse_repvgg_block\n"
     ]
    },
    {
     "name": "stderr",
     "output_type": "stream",
     "text": [
      "C:\\Users\\sreea\\anaconda3\\lib\\site-packages\\torch\\functional.py:478: UserWarning: torch.meshgrid: in an upcoming release, it will be required to pass the indexing argument. (Triggered internally at  C:\\actions-runner\\_work\\pytorch\\pytorch\\builder\\windows\\pytorch\\aten\\src\\ATen\\native\\TensorShape.cpp:2895.)\n",
      "  return _VF.meshgrid(tensors, **kwargs)  # type: ignore[attr-defined]\n",
      "YOLOR  v0.1-115-g072f76c torch 1.12.1+cpu CPU\n",
      "\n"
     ]
    },
    {
     "name": "stdout",
     "output_type": "stream",
     "text": [
      "1 laptop, Done. (121.0ms) Inference, (2.0ms) NMS\n",
      " The image with the result is saved in: runs\\detect\\exp199\\2_2.jpg\n",
      "Done. (0.157s)\n",
      "dir han\n",
      "csv up\n",
      "Copied\n",
      "checking C:\\Users\\sreea\\yolo_model\\yolov7\\static\\Src_image\\2_3.jpg\n",
      "Fusing layers... \n"
     ]
    },
    {
     "name": "stderr",
     "output_type": "stream",
     "text": [
      "Model Summary: 306 layers, 36905341 parameters, 6652669 gradients\n"
     ]
    },
    {
     "name": "stdout",
     "output_type": "stream",
     "text": [
      "RepConv.fuse_repvgg_block\n",
      "RepConv.fuse_repvgg_block\n",
      "RepConv.fuse_repvgg_block\n",
      "1 tv, Done. (101.0ms) Inference, (1.0ms) NMS\n",
      " The image with the result is saved in: runs\\detect\\exp200\\2_3.jpg\n",
      "Done. (0.124s)\n",
      "dir han\n",
      "csv up\n",
      "Copied\n",
      "checking C:\\Users\\sreea\\yolo_model\\yolov7\\static\\Src_image\\2_4.jpg\n"
     ]
    },
    {
     "name": "stderr",
     "output_type": "stream",
     "text": [
      "YOLOR  v0.1-115-g072f76c torch 1.12.1+cpu CPU\n",
      "\n"
     ]
    },
    {
     "name": "stdout",
     "output_type": "stream",
     "text": [
      "Fusing layers... \n"
     ]
    },
    {
     "name": "stderr",
     "output_type": "stream",
     "text": [
      "Model Summary: 306 layers, 36905341 parameters, 6652669 gradients\n"
     ]
    },
    {
     "name": "stdout",
     "output_type": "stream",
     "text": [
      "RepConv.fuse_repvgg_block\n",
      "RepConv.fuse_repvgg_block\n",
      "RepConv.fuse_repvgg_block\n"
     ]
    },
    {
     "name": "stderr",
     "output_type": "stream",
     "text": [
      "YOLOR  v0.1-115-g072f76c torch 1.12.1+cpu CPU\n",
      "\n"
     ]
    },
    {
     "name": "stdout",
     "output_type": "stream",
     "text": [
      "1 tv, 1 laptop, Done. (104.0ms) Inference, (0.0ms) NMS\n",
      " The image with the result is saved in: runs\\detect\\exp201\\2_4.jpg\n",
      "Done. (0.126s)\n",
      "dir han\n",
      "csv up\n",
      "Copied\n",
      "csv up\n",
      "Copied\n",
      "checking C:\\Users\\sreea\\yolo_model\\yolov7\\static\\Src_image\\2_5.jpg\n",
      "Fusing layers... \n"
     ]
    },
    {
     "name": "stderr",
     "output_type": "stream",
     "text": [
      "Model Summary: 306 layers, 36905341 parameters, 6652669 gradients\n"
     ]
    },
    {
     "name": "stdout",
     "output_type": "stream",
     "text": [
      "RepConv.fuse_repvgg_block\n",
      "RepConv.fuse_repvgg_block\n",
      "RepConv.fuse_repvgg_block\n"
     ]
    },
    {
     "name": "stderr",
     "output_type": "stream",
     "text": [
      "YOLOR  v0.1-115-g072f76c torch 1.12.1+cpu CPU\n",
      "\n"
     ]
    },
    {
     "name": "stdout",
     "output_type": "stream",
     "text": [
      "1 tv, Done. (112.0ms) Inference, (1.0ms) NMS\n",
      " The image with the result is saved in: runs\\detect\\exp202\\2_5.jpg\n",
      "Done. (0.133s)\n",
      "dir han\n",
      "csv up\n",
      "Copied\n",
      "checking C:\\Users\\sreea\\yolo_model\\yolov7\\static\\Src_image\\2_6.jpg\n",
      "Fusing layers... \n"
     ]
    },
    {
     "name": "stderr",
     "output_type": "stream",
     "text": [
      "Model Summary: 306 layers, 36905341 parameters, 6652669 gradients\n"
     ]
    },
    {
     "name": "stdout",
     "output_type": "stream",
     "text": [
      "RepConv.fuse_repvgg_block\n",
      "RepConv.fuse_repvgg_block\n",
      "RepConv.fuse_repvgg_block\n"
     ]
    },
    {
     "name": "stderr",
     "output_type": "stream",
     "text": [
      "YOLOR  v0.1-115-g072f76c torch 1.12.1+cpu CPU\n",
      "\n"
     ]
    },
    {
     "name": "stdout",
     "output_type": "stream",
     "text": [
      "Done. (193.0ms) Inference, (1.0ms) NMS\n",
      " The image with the result is saved in: runs\\detect\\exp203\\2_6.jpg\n",
      "Done. (0.211s)\n",
      "checking C:\\Users\\sreea\\yolo_model\\yolov7\\static\\Src_image\\2_7.jpg\n",
      "Fusing layers... \n",
      "RepConv.fuse_repvgg_block\n",
      "RepConv.fuse_repvgg_block\n",
      "RepConv.fuse_repvgg_block\n"
     ]
    },
    {
     "name": "stderr",
     "output_type": "stream",
     "text": [
      "Model Summary: 306 layers, 36905341 parameters, 6652669 gradients\n",
      "YOLOR  v0.1-115-g072f76c torch 1.12.1+cpu CPU\n",
      "\n"
     ]
    },
    {
     "name": "stdout",
     "output_type": "stream",
     "text": [
      "Done. (165.0ms) Inference, (1.0ms) NMS\n",
      " The image with the result is saved in: runs\\detect\\exp204\\2_7.jpg\n",
      "Done. (0.168s)\n",
      "checking C:\\Users\\sreea\\yolo_model\\yolov7\\static\\Src_image\\2_8.jpg\n",
      "Fusing layers... \n"
     ]
    },
    {
     "name": "stderr",
     "output_type": "stream",
     "text": [
      "Model Summary: 306 layers, 36905341 parameters, 6652669 gradients\n"
     ]
    },
    {
     "name": "stdout",
     "output_type": "stream",
     "text": [
      "RepConv.fuse_repvgg_block\n",
      "RepConv.fuse_repvgg_block\n",
      "RepConv.fuse_repvgg_block\n",
      "Image Not Found C:\\Users\\sreea\\yolo_model\\yolov7\\static\\Src_image\\2_8.jpg\n"
     ]
    },
    {
     "name": "stderr",
     "output_type": "stream",
     "text": [
      "YOLOR  v0.1-115-g072f76c torch 1.12.1+cpu CPU\n",
      "\n"
     ]
    },
    {
     "name": "stdout",
     "output_type": "stream",
     "text": [
      "checking C:\\Users\\sreea\\yolo_model\\yolov7\\static\\Src_image\\2_9.jpg\n",
      "Fusing layers... \n"
     ]
    },
    {
     "name": "stderr",
     "output_type": "stream",
     "text": [
      "Model Summary: 306 layers, 36905341 parameters, 6652669 gradients\n"
     ]
    },
    {
     "name": "stdout",
     "output_type": "stream",
     "text": [
      "RepConv.fuse_repvgg_block\n",
      "RepConv.fuse_repvgg_block\n",
      "RepConv.fuse_repvgg_block\n",
      "Image Not Found C:\\Users\\sreea\\yolo_model\\yolov7\\static\\Src_image\\2_9.jpg\n"
     ]
    },
    {
     "name": "stderr",
     "output_type": "stream",
     "text": [
      "YOLOR  v0.1-115-g072f76c torch 1.12.1+cpu CPU\n",
      "\n"
     ]
    },
    {
     "name": "stdout",
     "output_type": "stream",
     "text": [
      "checking C:\\Users\\sreea\\yolo_model\\yolov7\\static\\Src_image\\2_10.jpg\n",
      "Fusing layers... \n"
     ]
    },
    {
     "name": "stderr",
     "output_type": "stream",
     "text": [
      "Model Summary: 306 layers, 36905341 parameters, 6652669 gradients\n",
      "127.0.0.1 - - [26/Jan/2023 20:16:58] \"POST / HTTP/1.1\" 302 -\n",
      "127.0.0.1 - - [26/Jan/2023 20:16:58] \"\u001b[32mPOST / HTTP/1.1\u001b[0m\" 302 -\n",
      "127.0.0.1 - - [26/Jan/2023 20:16:58] \"GET /image HTTP/1.1\" 200 -\n",
      "127.0.0.1 - - [26/Jan/2023 20:16:58] \"GET /image HTTP/1.1\" 200 -\n"
     ]
    },
    {
     "name": "stdout",
     "output_type": "stream",
     "text": [
      "RepConv.fuse_repvgg_block\n",
      "RepConv.fuse_repvgg_block\n",
      "RepConv.fuse_repvgg_block\n",
      "Image Not Found C:\\Users\\sreea\\yolo_model\\yolov7\\static\\Src_image\\2_10.jpg\n",
      "['C:\\\\Users\\\\sreea\\\\yolo_model\\\\yolov7\\\\static\\\\\\\\Src_image\\\\1_0.jpg', 'C:\\\\Users\\\\sreea\\\\yolo_model\\\\yolov7\\\\static\\\\\\\\Src_image\\\\1_1.jpg', 'C:\\\\Users\\\\sreea\\\\yolo_model\\\\yolov7\\\\static\\\\\\\\Src_image\\\\1_10.jpg', 'C:\\\\Users\\\\sreea\\\\yolo_model\\\\yolov7\\\\static\\\\\\\\Src_image\\\\1_11.jpg', 'C:\\\\Users\\\\sreea\\\\yolo_model\\\\yolov7\\\\static\\\\\\\\Src_image\\\\1_12.jpg', 'C:\\\\Users\\\\sreea\\\\yolo_model\\\\yolov7\\\\static\\\\\\\\Src_image\\\\1_13.jpg', 'C:\\\\Users\\\\sreea\\\\yolo_model\\\\yolov7\\\\static\\\\\\\\Src_image\\\\1_14.jpg', 'C:\\\\Users\\\\sreea\\\\yolo_model\\\\yolov7\\\\static\\\\\\\\Src_image\\\\1_15.jpg', 'C:\\\\Users\\\\sreea\\\\yolo_model\\\\yolov7\\\\static\\\\\\\\Src_image\\\\1_16.jpg', 'C:\\\\Users\\\\sreea\\\\yolo_model\\\\yolov7\\\\static\\\\\\\\Src_image\\\\1_17.jpg', 'C:\\\\Users\\\\sreea\\\\yolo_model\\\\yolov7\\\\static\\\\\\\\Src_image\\\\1_18.jpg', 'C:\\\\Users\\\\sreea\\\\yolo_model\\\\yolov7\\\\static\\\\\\\\Src_image\\\\1_2.jpg', 'C:\\\\Users\\\\sreea\\\\yolo_model\\\\yolov7\\\\static\\\\\\\\Src_image\\\\1_3.jpg', 'C:\\\\Users\\\\sreea\\\\yolo_model\\\\yolov7\\\\static\\\\\\\\Src_image\\\\1_4.jpg', 'C:\\\\Users\\\\sreea\\\\yolo_model\\\\yolov7\\\\static\\\\\\\\Src_image\\\\1_5.jpg', 'C:\\\\Users\\\\sreea\\\\yolo_model\\\\yolov7\\\\static\\\\\\\\Src_image\\\\1_6.jpg', 'C:\\\\Users\\\\sreea\\\\yolo_model\\\\yolov7\\\\static\\\\\\\\Src_image\\\\1_7.jpg', 'C:\\\\Users\\\\sreea\\\\yolo_model\\\\yolov7\\\\static\\\\\\\\Src_image\\\\1_8.jpg', 'C:\\\\Users\\\\sreea\\\\yolo_model\\\\yolov7\\\\static\\\\\\\\Src_image\\\\1_9.jpg', 'C:\\\\Users\\\\sreea\\\\yolo_model\\\\yolov7\\\\static\\\\\\\\Src_image\\\\2_0.jpg', 'C:\\\\Users\\\\sreea\\\\yolo_model\\\\yolov7\\\\static\\\\\\\\Src_image\\\\2_1.jpg', 'C:\\\\Users\\\\sreea\\\\yolo_model\\\\yolov7\\\\static\\\\\\\\Src_image\\\\2_10.jpg', 'C:\\\\Users\\\\sreea\\\\yolo_model\\\\yolov7\\\\static\\\\\\\\Src_image\\\\2_2.jpg', 'C:\\\\Users\\\\sreea\\\\yolo_model\\\\yolov7\\\\static\\\\\\\\Src_image\\\\2_3.jpg', 'C:\\\\Users\\\\sreea\\\\yolo_model\\\\yolov7\\\\static\\\\\\\\Src_image\\\\2_4.jpg', 'C:\\\\Users\\\\sreea\\\\yolo_model\\\\yolov7\\\\static\\\\\\\\Src_image\\\\2_5.jpg', 'C:\\\\Users\\\\sreea\\\\yolo_model\\\\yolov7\\\\static\\\\\\\\Src_image\\\\2_6.jpg', 'C:\\\\Users\\\\sreea\\\\yolo_model\\\\yolov7\\\\static\\\\\\\\Src_image\\\\2_7.jpg', 'C:\\\\Users\\\\sreea\\\\yolo_model\\\\yolov7\\\\static\\\\\\\\Src_image\\\\2_8.jpg', 'C:\\\\Users\\\\sreea\\\\yolo_model\\\\yolov7\\\\static\\\\\\\\Src_image\\\\2_9.jpg']\n"
     ]
    },
    {
     "name": "stderr",
     "output_type": "stream",
     "text": [
      "127.0.0.1 - - [26/Jan/2023 20:16:58] \"GET /static/C:%5CUsers%5Csreea%5Cyolo_model%5Cyolov7%5Cstatic%5C%5CSrc_image%5C1_0.jpg HTTP/1.1\" 404 -\n",
      "127.0.0.1 - - [26/Jan/2023 20:16:58] \"\u001b[33mGET /static/C:%5CUsers%5Csreea%5Cyolo_model%5Cyolov7%5Cstatic%5C%5CSrc_image%5C1_0.jpg HTTP/1.1\u001b[0m\" 404 -\n",
      "127.0.0.1 - - [26/Jan/2023 20:16:58] \"GET /static/C:%5CUsers%5Csreea%5Cyolo_model%5Cyolov7%5Cstatic%5C%5CSrc_image%5C1_1.jpg HTTP/1.1\" 404 -\n",
      "127.0.0.1 - - [26/Jan/2023 20:16:58] \"\u001b[33mGET /static/C:%5CUsers%5Csreea%5Cyolo_model%5Cyolov7%5Cstatic%5C%5CSrc_image%5C1_1.jpg HTTP/1.1\u001b[0m\" 404 -\n",
      "127.0.0.1 - - [26/Jan/2023 20:16:58] \"GET /static/C:%5CUsers%5Csreea%5Cyolo_model%5Cyolov7%5Cstatic%5C%5CSrc_image%5C1_10.jpg HTTP/1.1\" 404 -\n",
      "127.0.0.1 - - [26/Jan/2023 20:16:58] \"\u001b[33mGET /static/C:%5CUsers%5Csreea%5Cyolo_model%5Cyolov7%5Cstatic%5C%5CSrc_image%5C1_10.jpg HTTP/1.1\u001b[0m\" 404 -\n",
      "127.0.0.1 - - [26/Jan/2023 20:16:58] \"GET /static/C:%5CUsers%5Csreea%5Cyolo_model%5Cyolov7%5Cstatic%5C%5CSrc_image%5C1_11.jpg HTTP/1.1\" 404 -\n",
      "127.0.0.1 - - [26/Jan/2023 20:16:58] \"\u001b[33mGET /static/C:%5CUsers%5Csreea%5Cyolo_model%5Cyolov7%5Cstatic%5C%5CSrc_image%5C1_11.jpg HTTP/1.1\u001b[0m\" 404 -\n",
      "127.0.0.1 - - [26/Jan/2023 20:16:58] \"GET /static/C:%5CUsers%5Csreea%5Cyolo_model%5Cyolov7%5Cstatic%5C%5CSrc_image%5C1_12.jpg HTTP/1.1\" 404 -\n",
      "127.0.0.1 - - [26/Jan/2023 20:16:58] \"\u001b[33mGET /static/C:%5CUsers%5Csreea%5Cyolo_model%5Cyolov7%5Cstatic%5C%5CSrc_image%5C1_12.jpg HTTP/1.1\u001b[0m\" 404 -\n",
      "127.0.0.1 - - [26/Jan/2023 20:16:58] \"GET /static/C:%5CUsers%5Csreea%5Cyolo_model%5Cyolov7%5Cstatic%5C%5CSrc_image%5C1_13.jpg HTTP/1.1\" 404 -\n",
      "127.0.0.1 - - [26/Jan/2023 20:16:58] \"\u001b[33mGET /static/C:%5CUsers%5Csreea%5Cyolo_model%5Cyolov7%5Cstatic%5C%5CSrc_image%5C1_13.jpg HTTP/1.1\u001b[0m\" 404 -\n",
      "127.0.0.1 - - [26/Jan/2023 20:16:58] \"GET /static/C:%5CUsers%5Csreea%5Cyolo_model%5Cyolov7%5Cstatic%5C%5CSrc_image%5C1_14.jpg HTTP/1.1\" 404 -\n",
      "127.0.0.1 - - [26/Jan/2023 20:16:58] \"\u001b[33mGET /static/C:%5CUsers%5Csreea%5Cyolo_model%5Cyolov7%5Cstatic%5C%5CSrc_image%5C1_14.jpg HTTP/1.1\u001b[0m\" 404 -\n",
      "127.0.0.1 - - [26/Jan/2023 20:16:58] \"GET /static/C:%5CUsers%5Csreea%5Cyolo_model%5Cyolov7%5Cstatic%5C%5CSrc_image%5C1_15.jpg HTTP/1.1\" 404 -\n",
      "127.0.0.1 - - [26/Jan/2023 20:16:58] \"\u001b[33mGET /static/C:%5CUsers%5Csreea%5Cyolo_model%5Cyolov7%5Cstatic%5C%5CSrc_image%5C1_15.jpg HTTP/1.1\u001b[0m\" 404 -\n",
      "127.0.0.1 - - [26/Jan/2023 20:16:58] \"GET /static/C:%5CUsers%5Csreea%5Cyolo_model%5Cyolov7%5Cstatic%5C%5CSrc_image%5C1_16.jpg HTTP/1.1\" 404 -\n",
      "127.0.0.1 - - [26/Jan/2023 20:16:58] \"\u001b[33mGET /static/C:%5CUsers%5Csreea%5Cyolo_model%5Cyolov7%5Cstatic%5C%5CSrc_image%5C1_16.jpg HTTP/1.1\u001b[0m\" 404 -\n",
      "127.0.0.1 - - [26/Jan/2023 20:16:58] \"GET /static/C:%5CUsers%5Csreea%5Cyolo_model%5Cyolov7%5Cstatic%5C%5CSrc_image%5C1_17.jpg HTTP/1.1\" 404 -\n",
      "127.0.0.1 - - [26/Jan/2023 20:16:58] \"\u001b[33mGET /static/C:%5CUsers%5Csreea%5Cyolo_model%5Cyolov7%5Cstatic%5C%5CSrc_image%5C1_17.jpg HTTP/1.1\u001b[0m\" 404 -\n",
      "127.0.0.1 - - [26/Jan/2023 20:16:58] \"GET /static/C:%5CUsers%5Csreea%5Cyolo_model%5Cyolov7%5Cstatic%5C%5CSrc_image%5C1_18.jpg HTTP/1.1\" 404 -\n",
      "127.0.0.1 - - [26/Jan/2023 20:16:58] \"\u001b[33mGET /static/C:%5CUsers%5Csreea%5Cyolo_model%5Cyolov7%5Cstatic%5C%5CSrc_image%5C1_18.jpg HTTP/1.1\u001b[0m\" 404 -\n",
      "127.0.0.1 - - [26/Jan/2023 20:16:58] \"GET /static/C:%5CUsers%5Csreea%5Cyolo_model%5Cyolov7%5Cstatic%5C%5CSrc_image%5C1_2.jpg HTTP/1.1\" 404 -\n",
      "127.0.0.1 - - [26/Jan/2023 20:16:58] \"\u001b[33mGET /static/C:%5CUsers%5Csreea%5Cyolo_model%5Cyolov7%5Cstatic%5C%5CSrc_image%5C1_2.jpg HTTP/1.1\u001b[0m\" 404 -\n",
      "127.0.0.1 - - [26/Jan/2023 20:16:58] \"GET /static/C:%5CUsers%5Csreea%5Cyolo_model%5Cyolov7%5Cstatic%5C%5CSrc_image%5C1_3.jpg HTTP/1.1\" 404 -\n",
      "127.0.0.1 - - [26/Jan/2023 20:16:58] \"\u001b[33mGET /static/C:%5CUsers%5Csreea%5Cyolo_model%5Cyolov7%5Cstatic%5C%5CSrc_image%5C1_3.jpg HTTP/1.1\u001b[0m\" 404 -\n",
      "127.0.0.1 - - [26/Jan/2023 20:16:58] \"GET /static/C:%5CUsers%5Csreea%5Cyolo_model%5Cyolov7%5Cstatic%5C%5CSrc_image%5C1_4.jpg HTTP/1.1\" 404 -\n",
      "127.0.0.1 - - [26/Jan/2023 20:16:58] \"\u001b[33mGET /static/C:%5CUsers%5Csreea%5Cyolo_model%5Cyolov7%5Cstatic%5C%5CSrc_image%5C1_4.jpg HTTP/1.1\u001b[0m\" 404 -\n",
      "127.0.0.1 - - [26/Jan/2023 20:16:58] \"GET /static/C:%5CUsers%5Csreea%5Cyolo_model%5Cyolov7%5Cstatic%5C%5CSrc_image%5C1_5.jpg HTTP/1.1\" 404 -\n",
      "127.0.0.1 - - [26/Jan/2023 20:16:58] \"\u001b[33mGET /static/C:%5CUsers%5Csreea%5Cyolo_model%5Cyolov7%5Cstatic%5C%5CSrc_image%5C1_5.jpg HTTP/1.1\u001b[0m\" 404 -\n",
      "127.0.0.1 - - [26/Jan/2023 20:16:58] \"GET /static/C:%5CUsers%5Csreea%5Cyolo_model%5Cyolov7%5Cstatic%5C%5CSrc_image%5C1_6.jpg HTTP/1.1\" 404 -\n",
      "127.0.0.1 - - [26/Jan/2023 20:16:58] \"\u001b[33mGET /static/C:%5CUsers%5Csreea%5Cyolo_model%5Cyolov7%5Cstatic%5C%5CSrc_image%5C1_6.jpg HTTP/1.1\u001b[0m\" 404 -\n",
      "127.0.0.1 - - [26/Jan/2023 20:16:58] \"GET /static/C:%5CUsers%5Csreea%5Cyolo_model%5Cyolov7%5Cstatic%5C%5CSrc_image%5C1_7.jpg HTTP/1.1\" 404 -\n",
      "127.0.0.1 - - [26/Jan/2023 20:16:58] \"\u001b[33mGET /static/C:%5CUsers%5Csreea%5Cyolo_model%5Cyolov7%5Cstatic%5C%5CSrc_image%5C1_7.jpg HTTP/1.1\u001b[0m\" 404 -\n",
      "127.0.0.1 - - [26/Jan/2023 20:16:58] \"GET /static/C:%5CUsers%5Csreea%5Cyolo_model%5Cyolov7%5Cstatic%5C%5CSrc_image%5C1_8.jpg HTTP/1.1\" 404 -\n",
      "127.0.0.1 - - [26/Jan/2023 20:16:58] \"\u001b[33mGET /static/C:%5CUsers%5Csreea%5Cyolo_model%5Cyolov7%5Cstatic%5C%5CSrc_image%5C1_8.jpg HTTP/1.1\u001b[0m\" 404 -\n",
      "127.0.0.1 - - [26/Jan/2023 20:16:58] \"GET /static/C:%5CUsers%5Csreea%5Cyolo_model%5Cyolov7%5Cstatic%5C%5CSrc_image%5C1_9.jpg HTTP/1.1\" 404 -\n",
      "127.0.0.1 - - [26/Jan/2023 20:16:58] \"\u001b[33mGET /static/C:%5CUsers%5Csreea%5Cyolo_model%5Cyolov7%5Cstatic%5C%5CSrc_image%5C1_9.jpg HTTP/1.1\u001b[0m\" 404 -\n",
      "127.0.0.1 - - [26/Jan/2023 20:16:58] \"GET /static/C:%5CUsers%5Csreea%5Cyolo_model%5Cyolov7%5Cstatic%5C%5CSrc_image%5C2_0.jpg HTTP/1.1\" 404 -\n",
      "127.0.0.1 - - [26/Jan/2023 20:16:58] \"\u001b[33mGET /static/C:%5CUsers%5Csreea%5Cyolo_model%5Cyolov7%5Cstatic%5C%5CSrc_image%5C2_0.jpg HTTP/1.1\u001b[0m\" 404 -\n",
      "127.0.0.1 - - [26/Jan/2023 20:16:58] \"GET /static/C:%5CUsers%5Csreea%5Cyolo_model%5Cyolov7%5Cstatic%5C%5CSrc_image%5C2_1.jpg HTTP/1.1\" 404 -\n",
      "127.0.0.1 - - [26/Jan/2023 20:16:58] \"\u001b[33mGET /static/C:%5CUsers%5Csreea%5Cyolo_model%5Cyolov7%5Cstatic%5C%5CSrc_image%5C2_1.jpg HTTP/1.1\u001b[0m\" 404 -\n",
      "127.0.0.1 - - [26/Jan/2023 20:16:58] \"GET /static/C:%5CUsers%5Csreea%5Cyolo_model%5Cyolov7%5Cstatic%5C%5CSrc_image%5C2_10.jpg HTTP/1.1\" 404 -\n",
      "127.0.0.1 - - [26/Jan/2023 20:16:58] \"\u001b[33mGET /static/C:%5CUsers%5Csreea%5Cyolo_model%5Cyolov7%5Cstatic%5C%5CSrc_image%5C2_10.jpg HTTP/1.1\u001b[0m\" 404 -\n",
      "127.0.0.1 - - [26/Jan/2023 20:16:58] \"GET /static/C:%5CUsers%5Csreea%5Cyolo_model%5Cyolov7%5Cstatic%5C%5CSrc_image%5C2_2.jpg HTTP/1.1\" 404 -\n",
      "127.0.0.1 - - [26/Jan/2023 20:16:58] \"\u001b[33mGET /static/C:%5CUsers%5Csreea%5Cyolo_model%5Cyolov7%5Cstatic%5C%5CSrc_image%5C2_2.jpg HTTP/1.1\u001b[0m\" 404 -\n",
      "127.0.0.1 - - [26/Jan/2023 20:16:58] \"GET /static/C:%5CUsers%5Csreea%5Cyolo_model%5Cyolov7%5Cstatic%5C%5CSrc_image%5C2_3.jpg HTTP/1.1\" 404 -\n",
      "127.0.0.1 - - [26/Jan/2023 20:16:58] \"\u001b[33mGET /static/C:%5CUsers%5Csreea%5Cyolo_model%5Cyolov7%5Cstatic%5C%5CSrc_image%5C2_3.jpg HTTP/1.1\u001b[0m\" 404 -\n",
      "127.0.0.1 - - [26/Jan/2023 20:16:58] \"GET /static/C:%5CUsers%5Csreea%5Cyolo_model%5Cyolov7%5Cstatic%5C%5CSrc_image%5C2_4.jpg HTTP/1.1\" 404 -\n",
      "127.0.0.1 - - [26/Jan/2023 20:16:58] \"\u001b[33mGET /static/C:%5CUsers%5Csreea%5Cyolo_model%5Cyolov7%5Cstatic%5C%5CSrc_image%5C2_4.jpg HTTP/1.1\u001b[0m\" 404 -\n",
      "127.0.0.1 - - [26/Jan/2023 20:16:58] \"GET /static/C:%5CUsers%5Csreea%5Cyolo_model%5Cyolov7%5Cstatic%5C%5CSrc_image%5C2_5.jpg HTTP/1.1\" 404 -\n",
      "127.0.0.1 - - [26/Jan/2023 20:16:58] \"\u001b[33mGET /static/C:%5CUsers%5Csreea%5Cyolo_model%5Cyolov7%5Cstatic%5C%5CSrc_image%5C2_5.jpg HTTP/1.1\u001b[0m\" 404 -\n",
      "127.0.0.1 - - [26/Jan/2023 20:16:58] \"GET /static/C:%5CUsers%5Csreea%5Cyolo_model%5Cyolov7%5Cstatic%5C%5CSrc_image%5C2_6.jpg HTTP/1.1\" 404 -\n",
      "127.0.0.1 - - [26/Jan/2023 20:16:58] \"\u001b[33mGET /static/C:%5CUsers%5Csreea%5Cyolo_model%5Cyolov7%5Cstatic%5C%5CSrc_image%5C2_6.jpg HTTP/1.1\u001b[0m\" 404 -\n",
      "127.0.0.1 - - [26/Jan/2023 20:16:58] \"GET /static/C:%5CUsers%5Csreea%5Cyolo_model%5Cyolov7%5Cstatic%5C%5CSrc_image%5C2_7.jpg HTTP/1.1\" 404 -\n",
      "127.0.0.1 - - [26/Jan/2023 20:16:58] \"\u001b[33mGET /static/C:%5CUsers%5Csreea%5Cyolo_model%5Cyolov7%5Cstatic%5C%5CSrc_image%5C2_7.jpg HTTP/1.1\u001b[0m\" 404 -\n",
      "127.0.0.1 - - [26/Jan/2023 20:16:58] \"GET /static/C:%5CUsers%5Csreea%5Cyolo_model%5Cyolov7%5Cstatic%5C%5CSrc_image%5C2_8.jpg HTTP/1.1\" 404 -\n",
      "127.0.0.1 - - [26/Jan/2023 20:16:58] \"\u001b[33mGET /static/C:%5CUsers%5Csreea%5Cyolo_model%5Cyolov7%5Cstatic%5C%5CSrc_image%5C2_8.jpg HTTP/1.1\u001b[0m\" 404 -\n",
      "127.0.0.1 - - [26/Jan/2023 20:16:58] \"GET /static/C:%5CUsers%5Csreea%5Cyolo_model%5Cyolov7%5Cstatic%5C%5CSrc_image%5C2_9.jpg HTTP/1.1\" 404 -\n",
      "127.0.0.1 - - [26/Jan/2023 20:16:58] \"\u001b[33mGET /static/C:%5CUsers%5Csreea%5Cyolo_model%5Cyolov7%5Cstatic%5C%5CSrc_image%5C2_9.jpg HTTP/1.1\u001b[0m\" 404 -\n"
     ]
    }
   ],
   "source": [
    "if __name__=='__main__':\n",
    "    app.run()"
   ]
  },
  {
   "cell_type": "code",
   "execution_count": 18,
   "id": "e3a1cf77",
   "metadata": {},
   "outputs": [
    {
     "name": "stdout",
     "output_type": "stream",
     "text": [
      "['1_0.jpg', '1_1.jpg', '1_10.jpg', '1_11.jpg', '1_12.jpg', '1_13.jpg', '1_14.jpg', '1_15.jpg', '1_16.jpg', '1_17.jpg', '1_18.jpg', '1_2.jpg', '1_3.jpg', '1_4.jpg', '1_5.jpg', '1_6.jpg', '1_7.jpg', '1_8.jpg', '1_9.jpg', '2_0.jpg', '2_1.jpg', '2_10.jpg', '2_2.jpg', '2_3.jpg', '2_4.jpg', '2_5.jpg', '2_6.jpg', '2_7.jpg', '2_8.jpg', '2_9.jpg']\n"
     ]
    }
   ],
   "source": [
    "image_names = [i for i in os.listdir(sr_path+\"\\\\Src_image\\\\\")]\n",
    "print(image_names)"
   ]
  },
  {
   "cell_type": "code",
   "execution_count": null,
   "id": "7db5b169",
   "metadata": {},
   "outputs": [],
   "source": []
  }
 ],
 "metadata": {
  "kernelspec": {
   "display_name": "Python 3 (ipykernel)",
   "language": "python",
   "name": "python3"
  },
  "language_info": {
   "codemirror_mode": {
    "name": "ipython",
    "version": 3
   },
   "file_extension": ".py",
   "mimetype": "text/x-python",
   "name": "python",
   "nbconvert_exporter": "python",
   "pygments_lexer": "ipython3",
   "version": "3.8.8"
  }
 },
 "nbformat": 4,
 "nbformat_minor": 5
}
